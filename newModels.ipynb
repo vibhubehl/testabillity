{
 "cells": [
  {
   "cell_type": "code",
   "execution_count": 1,
   "metadata": {},
   "outputs": [],
   "source": [
    "import pandas as pd\n",
    "import numpy as np\n",
    "\n",
    "from sklearn.preprocessing import QuantileTransformer\n",
    "from sklearn.model_selection import train_test_split\n",
    "from sklearn.metrics import mean_squared_error, mean_absolute_error, median_absolute_error, r2_score\n",
    "from sklearn.model_selection import ShuffleSplit, GridSearchCV\n",
    "\n",
    "from sklearn.tree import DecisionTreeRegressor\n",
    "from sklearn import linear_model\n",
    "from sklearn.neural_network import MLPRegressor\n",
    "from sklearn.ensemble import GradientBoostingRegressor, RandomForestRegressor, HistGradientBoostingRegressor\n",
    "from sklearn.ensemble import VotingRegressor\n",
    "from sklearn.preprocessing import MinMaxScaler"
   ]
  },
  {
   "cell_type": "markdown",
   "metadata": {},
   "source": [
    "# Decription"
   ]
  },
  {
   "cell_type": "markdown",
   "metadata": {},
   "source": [
    "This notebook implements the new regression models not used in the research and aims at forming an ensemle technique using these models. "
   ]
  },
  {
   "cell_type": "markdown",
   "metadata": {},
   "source": [
    "# Dataset and Cleaning"
   ]
  },
  {
   "cell_type": "code",
   "execution_count": 2,
   "metadata": {},
   "outputs": [],
   "source": [
    "data = pd.read_csv(\"./dataset/researchDataset/DS07012.csv\")\n",
    "\n",
    "data.drop('Class', axis=1, inplace=True)\n",
    "corr_matrix = data.corr().abs()\n",
    "upper = corr_matrix.where(np.triu(np.ones(corr_matrix.shape), k=1).astype(bool))\n",
    "to_drop = [column for column in upper.columns if any(upper[column] > 0.95)]\n",
    "data.drop(to_drop, axis=1, inplace=True)\n",
    "data.columns\n",
    "\n",
    "df = data.copy()\n",
    "label = df[\"Testability\"]\n",
    "df.drop('Testability', axis=1, inplace=True)\n",
    "scaler = MinMaxScaler()\n",
    "scaler.fit(df)\n",
    "df = scaler.transform(df)\n",
    "df = pd.DataFrame(df)\n",
    "\n",
    "(X_train, X_test, y_train, y_test) = train_test_split(df, label, random_state=100)"
   ]
  },
  {
   "cell_type": "markdown",
   "metadata": {},
   "source": [
    "# Models"
   ]
  },
  {
   "cell_type": "markdown",
   "metadata": {},
   "source": [
    "## Lasso Regressor"
   ]
  },
  {
   "cell_type": "code",
   "execution_count": 7,
   "metadata": {},
   "outputs": [
    {
     "name": "stdout",
     "output_type": "stream",
     "text": [
      "Best Params: {'fit_intercept': True, 'max_iter': 10, 'selection': 'cyclic', 'warm_start': True}\n",
      "Lasso MAE: 0.24977175879004274\n",
      "Lasso RMSE: 0.29398210896590665\n",
      "Lasso MedAE: 0.2406725025740746\n"
     ]
    }
   ],
   "source": [
    "from sklearn import linear_model\n",
    "\n",
    "max_iter = [10, 50, 100, 1000]\n",
    "warm_start = [True, False]\n",
    "fit_intercept = [True, False]\n",
    "selection = ['cyclic', 'random']\n",
    "grid = dict(max_iter=max_iter, warm_start=warm_start, fit_intercept=fit_intercept, selection=selection)\n",
    "lassoModel = linear_model.Lasso()\n",
    "grid = GridSearchCV(estimator=lassoModel, param_grid=grid, n_jobs=-5)\n",
    "grid.fit(X_train, y_train)\n",
    "\n",
    "model = grid.best_estimator_\n",
    "y_pred = model.predict(X_test)\n",
    "print('Best Params:', grid.best_params_)\n",
    "print('Lasso MAE:',mean_absolute_error(y_test, y_pred))\n",
    "print('Lasso RMSE:',mean_squared_error(y_test, y_pred, squared = False))\n",
    "print('Lasso MedAE:',median_absolute_error(y_test, y_pred))"
   ]
  },
  {
   "cell_type": "markdown",
   "metadata": {},
   "source": [
    "## Ridge Regression"
   ]
  },
  {
   "cell_type": "code",
   "execution_count": 8,
   "metadata": {},
   "outputs": [
    {
     "name": "stderr",
     "output_type": "stream",
     "text": [
      "c:\\Python311\\Lib\\site-packages\\sklearn\\model_selection\\_validation.py:378: FitFailedWarning: \n",
      "40 fits failed out of a total of 320.\n",
      "The score on these train-test partitions for these parameters will be set to nan.\n",
      "If these failures are not expected, you can try to debug them by setting error_score='raise'.\n",
      "\n",
      "Below are more details about the failures:\n",
      "--------------------------------------------------------------------------------\n",
      "40 fits failed with the following error:\n",
      "Traceback (most recent call last):\n",
      "  File \"c:\\Python311\\Lib\\site-packages\\sklearn\\model_selection\\_validation.py\", line 686, in _fit_and_score\n",
      "    estimator.fit(X_train, y_train, **fit_params)\n",
      "  File \"c:\\Python311\\Lib\\site-packages\\sklearn\\linear_model\\_ridge.py\", line 1134, in fit\n",
      "    return super().fit(X, y, sample_weight=sample_weight)\n",
      "           ^^^^^^^^^^^^^^^^^^^^^^^^^^^^^^^^^^^^^^^^^^^^^^\n",
      "  File \"c:\\Python311\\Lib\\site-packages\\sklearn\\linear_model\\_ridge.py\", line 825, in fit\n",
      "    raise ValueError(\n",
      "ValueError: 'lbfgs' solver can be used only when positive=True. Please use another solver.\n",
      "\n",
      "  warnings.warn(some_fits_failed_message, FitFailedWarning)\n",
      "c:\\Python311\\Lib\\site-packages\\sklearn\\model_selection\\_search.py:952: UserWarning: One or more of the test scores are non-finite: [0.51611287 0.51611287 0.51611287 0.49763537 0.49763537 0.51261645\n",
      " 0.50787096        nan 0.51611287 0.51611287 0.51611287 0.51608739\n",
      " 0.51609713 0.51599657 0.51529212        nan 0.51611287 0.51611287\n",
      " 0.51611287 0.51608739 0.51610012 0.51610315 0.51597387        nan\n",
      " 0.51611287 0.51611287 0.51611287 0.51608739 0.51610012 0.51610316\n",
      " 0.51609086        nan 0.43721075 0.43721075 0.43721075 0.37847957\n",
      " 0.38356646 0.42596235 0.41399091        nan 0.43721075 0.43721075\n",
      " 0.43721075 0.4370623  0.43712676 0.43648687 0.43379195        nan\n",
      " 0.43721075 0.43721075 0.43721075 0.4370623  0.43712676 0.43714907\n",
      " 0.43639921        nan 0.43721075 0.43721075 0.43721075 0.4370623\n",
      " 0.43712676 0.43716015 0.4370981         nan]\n",
      "  warnings.warn(\n"
     ]
    },
    {
     "name": "stdout",
     "output_type": "stream",
     "text": [
      "Best Params: {'fit_intercept': True, 'max_iter': 10, 'solver': 'svd'}\n",
      "Ridge MAE: 0.15848379660105183\n",
      "Ridge RMSE: 0.1999290465203572\n",
      "Ridge MedAE: 0.12934896634613519\n"
     ]
    }
   ],
   "source": [
    "from sklearn import linear_model\n",
    "\n",
    "max_iter = [10, 50, 100, 1000]\n",
    "fit_intercept = [True, False]\n",
    "solver = ['auto', 'svd', 'cholesky', 'lsqr', 'sparse_cg', 'sag', 'saga', 'lbfgs']\n",
    "\n",
    "grid = dict(max_iter=max_iter, fit_intercept=fit_intercept, solver=solver)\n",
    "ridgeModel = linear_model.Ridge()\n",
    "grid = GridSearchCV(estimator=ridgeModel, param_grid=grid, n_jobs=-5)\n",
    "grid.fit(X_train, y_train)\n",
    "\n",
    "model = grid.best_estimator_\n",
    "y_pred = model.predict(X_test)\n",
    "print('Best Params:', grid.best_params_)\n",
    "print('Ridge MAE:',mean_absolute_error(y_test, y_pred))\n",
    "print('Ridge RMSE:',mean_squared_error(y_test, y_pred, squared = False))\n",
    "print('Ridge MedAE:',median_absolute_error(y_test, y_pred))"
   ]
  },
  {
   "cell_type": "markdown",
   "metadata": {},
   "source": [
    "## Baysian Ridge Regression"
   ]
  },
  {
   "cell_type": "code",
   "execution_count": 15,
   "metadata": {},
   "outputs": [
    {
     "name": "stdout",
     "output_type": "stream",
     "text": [
      "Best Params: {'copy_X': True, 'fit_intercept': True, 'n_iter': 100}\n",
      "BaysianRegModel MAE: 0.1565341718898035\n",
      "BaysianRegModel RMSE: 0.19842474348332387\n",
      "BaysianRegModel MedAE: 0.12739062824149672\n"
     ]
    }
   ],
   "source": [
    "n_iter = [100, 500, 1000, 10000]\n",
    "fit_intercept = [True, False]\n",
    "copy_X = [True]\n",
    "compute_score = [True, False]\n",
    "\n",
    "grid = dict(n_iter=n_iter, fit_intercept=fit_intercept, copy_X=copy_X)\n",
    "baysianRegModel = linear_model.BayesianRidge()\n",
    "grid = GridSearchCV(estimator=baysianRegModel, param_grid=grid, n_jobs=-5)\n",
    "grid.fit(X_train, y_train)\n",
    "\n",
    "model = grid.best_estimator_\n",
    "y_pred = model.predict(X_test)\n",
    "print('Best Params:', grid.best_params_)\n",
    "print('BaysianRegModel MAE:',mean_absolute_error(y_test, y_pred))\n",
    "print('BaysianRegModel RMSE:',mean_squared_error(y_test, y_pred, squared = False))\n",
    "print('BaysianRegModel MedAE:',median_absolute_error(y_test, y_pred))"
   ]
  },
  {
   "cell_type": "markdown",
   "metadata": {},
   "source": [
    "## SVM Regression"
   ]
  },
  {
   "cell_type": "code",
   "execution_count": 34,
   "metadata": {},
   "outputs": [
    {
     "name": "stderr",
     "output_type": "stream",
     "text": [
      "c:\\Python311\\Lib\\site-packages\\sklearn\\svm\\_base.py:299: ConvergenceWarning: Solver terminated early (max_iter=1000).  Consider pre-processing your data with StandardScaler or MinMaxScaler.\n",
      "  warnings.warn(\n"
     ]
    },
    {
     "name": "stdout",
     "output_type": "stream",
     "text": [
      "Best Params: {'C': 0.5, 'degree': 1, 'epsilon': 0.2, 'gamma': 'scale', 'kernel': 'rbf', 'max_iter': 1000}\n",
      "SVMRegModel MAE: 0.18099698518198562\n",
      "SVMRegModel RMSE: 0.21697804430130335\n",
      "SVMRegModel MedAE: 0.1680055513612666\n"
     ]
    }
   ],
   "source": [
    "from sklearn.svm import SVR\n",
    "\n",
    "max_iter = [100, 500, 1000]\n",
    "kernel = ['linear', 'poly', 'rbf', 'sigmoid']\n",
    "degree = [1, 2, 3, 4, 5, 6]\n",
    "gamma = ['scale', 'auto']\n",
    "epsilon = [0.1, 0.2, 0.3, 0.4, 0.5, 1.0]\n",
    "C = [1.0, 0.5, 0.1, 0.01, 0.001]\n",
    "\n",
    "grid = dict(max_iter=max_iter, kernel=kernel, degree=degree, gamma=gamma, epsilon=epsilon, C=C)\n",
    "SVMRegModel = SVR()\n",
    "grid = GridSearchCV(estimator=SVMRegModel, param_grid=grid, n_jobs=-5)\n",
    "grid.fit(X_train, y_train)\n",
    "\n",
    "model = grid.best_estimator_\n",
    "y_pred = model.predict(X_test)\n",
    "print('Best Params:', grid.best_params_)\n",
    "print('SVMRegModel MAE:',mean_absolute_error(y_test, y_pred))\n",
    "print('SVMRegModel RMSE:',mean_squared_error(y_test, y_pred, squared = False))\n",
    "print('SVMRegModel MedAE:',median_absolute_error(y_test, y_pred))"
   ]
  },
  {
   "cell_type": "markdown",
   "metadata": {},
   "source": [
    "## Adaboost Regressor Regressor"
   ]
  },
  {
   "cell_type": "code",
   "execution_count": 3,
   "metadata": {},
   "outputs": [],
   "source": [
    "from sklearn.ensemble import AdaBoostRegressor\n",
    "\n",
    "# n_estimators = [10, 50, 500]\n",
    "# learning_rate = [0.001, 0.01, 0.1, 1.0]\n",
    "# loss = ['linear', 'square', 'exponential']\n",
    "estimator = [RandomForestRegressor(n_estimators=150, max_depth=28, min_samples_leaf=2, criterion='squared_error'), HistGradientBoostingRegressor(loss='squared_error', max_depth=18, min_samples_leaf=15, max_iter=500)]\n",
    "\n",
    "grid = dict(base_estimator=estimator)\n",
    "AdaRegModel = AdaBoostRegressor()\n",
    "grid = GridSearchCV(estimator=AdaRegModel, param_grid=grid, n_jobs=2)\n",
    "grid.fit(X_train, y_train)\n",
    "\n",
    "model = grid.best_estimator_\n",
    "y_pred = model.predict(X_test)\n",
    "print('Best Params:', grid.best_params_)\n",
    "print('AdaRegModel MAE:',mean_absolute_error(y_test, y_pred))\n",
    "print('AdaRegModel RMSE:',mean_squared_error(y_test, y_pred, squared = False))\n",
    "print('AdaRegModel MedAE:',median_absolute_error(y_test, y_pred))\n",
    "## Votting Regression of RFR, HGBR and MLPR"
   ]
  }
 ],
 "metadata": {
  "kernelspec": {
   "display_name": "base",
   "language": "python",
   "name": "python3"
  },
  "language_info": {
   "codemirror_mode": {
    "name": "ipython",
    "version": 3
   },
   "file_extension": ".py",
   "mimetype": "text/x-python",
   "name": "python",
   "nbconvert_exporter": "python",
   "pygments_lexer": "ipython3",
   "version": "3.11.3"
  },
  "orig_nbformat": 4
 },
 "nbformat": 4,
 "nbformat_minor": 2
}
