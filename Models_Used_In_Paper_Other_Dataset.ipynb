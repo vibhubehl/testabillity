{
 "cells": [
  {
   "cell_type": "code",
   "execution_count": 31,
   "metadata": {},
   "outputs": [],
   "source": [
    "import pandas as pd\n",
    "import numpy as np\n",
    "\n",
    "from sklearn.preprocessing import QuantileTransformer\n",
    "from sklearn.model_selection import train_test_split\n",
    "from sklearn.metrics import mean_squared_error, mean_absolute_error, median_absolute_error, r2_score\n",
    "from sklearn.model_selection import ShuffleSplit, GridSearchCV\n",
    "\n",
    "from sklearn.tree import DecisionTreeRegressor\n",
    "from sklearn import linear_model\n",
    "from sklearn.neural_network import MLPRegressor\n",
    "from sklearn.ensemble import GradientBoostingRegressor, RandomForestRegressor, HistGradientBoostingRegressor\n",
    "from sklearn.ensemble import VotingRegressor\n",
    "from sklearn.preprocessing import MinMaxScaler"
   ]
  },
  {
   "cell_type": "markdown",
   "metadata": {},
   "source": [
    "# Decription"
   ]
  },
  {
   "cell_type": "markdown",
   "metadata": {},
   "source": [
    "This notebook implements the models used in the testability research paper. It also uses the best hyperparameters which are highlighted in the paper and then makes the voting regressor and calculates accuracy on the our dataset. "
   ]
  },
  {
   "cell_type": "markdown",
   "metadata": {},
   "source": [
    "# Dataset and Cleaning"
   ]
  },
  {
   "cell_type": "code",
   "execution_count": 32,
   "metadata": {},
   "outputs": [],
   "source": [
    "data = pd.read_csv('./dataset/newDataset/DS_K45.csv')\n",
    "#data = pd.read_csv('./dataset/newDataset/DS_LassoCV_k45.csv')\n",
    "#data = pd.read_csv('./dataset/newDataset/DS_PCA_k45.csv')\n",
    "\n",
    "data.drop('Class', axis=1, inplace=True)\n",
    "df = data.copy()\n",
    "label = df[\"Testability\"]\n",
    "df.drop('Testability', axis=1, inplace=True)\n",
    "scaler = MinMaxScaler()\n",
    "scaler.fit(df)\n",
    "df = scaler.transform(df)\n",
    "df = pd.DataFrame(df)\n",
    "\n",
    "(X_train, X_test, y_train, y_test) = train_test_split(df, label, random_state=100)"
   ]
  },
  {
   "cell_type": "markdown",
   "metadata": {},
   "source": [
    "# Models"
   ]
  },
  {
   "cell_type": "markdown",
   "metadata": {},
   "source": [
    "## Histogram based Gradient Boost Regressor"
   ]
  },
  {
   "cell_type": "code",
   "execution_count": 33,
   "metadata": {},
   "outputs": [
    {
     "name": "stdout",
     "output_type": "stream",
     "text": [
      "HGBR MAE: 0.13963373443883495\n",
      "HGBR RMSE: 0.18888272650756716\n",
      "HGBR MedAE: 0.10352956874014307\n"
     ]
    }
   ],
   "source": [
    "from sklearn.ensemble import HistGradientBoostingRegressor\n",
    "\n",
    "clf = HistGradientBoostingRegressor(loss='squared_error', max_depth=18, min_samples_leaf=15, max_iter=500).fit(X_train, y_train)\n",
    "y_pred = clf.predict(X_test)\n",
    "print('HGBR MAE:',mean_absolute_error(y_test, y_pred))\n",
    "print('HGBR RMSE:',mean_squared_error(y_test, y_pred, squared = False))\n",
    "print('HGBR MedAE:',median_absolute_error(y_test, y_pred))"
   ]
  },
  {
   "cell_type": "markdown",
   "metadata": {},
   "source": [
    "DS_K45\n",
    "\n",
    "HGBR MAE: 0.13963373443883495\n",
    "HGBR RMSE: 0.18888272650756716\n",
    "HGBR MedAE: 0.10352956874014307\n",
    "\n",
    "LassoCV_k45\n",
    "\n",
    "HGBR MAE: 0.12130354153498595\n",
    "HGBR RMSE: 0.16828666697198777\n",
    "HGBR MedAE: 0.08603795796138775\n",
    "\n",
    "PCA_k45\n",
    "\n",
    "HGBR MAE: 0.12966535329002396\n",
    "HGBR RMSE: 0.175882649044401\n",
    "HGBR MedAE: 0.09808484539447493"
   ]
  },
  {
   "cell_type": "markdown",
   "metadata": {},
   "source": [
    "## Linear Regressor"
   ]
  },
  {
   "cell_type": "code",
   "execution_count": 34,
   "metadata": {},
   "outputs": [
    {
     "name": "stdout",
     "output_type": "stream",
     "text": [
      "Linear MAE: 0.20452989625037835\n",
      "Linear RMSE: 0.24429582037810824\n",
      "Linear MedAE: 0.1885627442270964\n"
     ]
    }
   ],
   "source": [
    "from sklearn import linear_model\n",
    "\n",
    "clf = linear_model.SGDRegressor(loss='huber', penalty='l2', learning_rate='invscaling', max_iter=50).fit(X_train, y_train) \n",
    "y_pred = clf.predict(X_test)\n",
    "print('Linear MAE:',mean_absolute_error(y_test, y_pred))\n",
    "print('Linear RMSE:',mean_squared_error(y_test, y_pred, squared = False))\n",
    "print('Linear MedAE:',median_absolute_error(y_test, y_pred))"
   ]
  },
  {
   "cell_type": "markdown",
   "metadata": {},
   "source": [
    "DS_K45\n",
    "\n",
    "Linear MAE: 0.20452989625037835\n",
    "Linear RMSE: 0.24429582037810824\n",
    "Linear MedAE: 0.1885627442270964\n",
    "\n",
    "LassoCV_k45\n",
    "\n",
    "Linear MAE: 0.2008948959075644\n",
    "Linear RMSE: 0.24033661405296905\n",
    "Linear MedAE: 0.18450769609373258\n",
    "\n",
    "PCA_k45\n",
    "\n",
    "Linear MAE: 0.2413722906532826\n",
    "Linear RMSE: 0.28372529407126906\n",
    "Linear MedAE: 0.23342428807519486"
   ]
  },
  {
   "cell_type": "markdown",
   "metadata": {},
   "source": [
    "## SVMR"
   ]
  },
  {
   "cell_type": "code",
   "execution_count": 35,
   "metadata": {},
   "outputs": [
    {
     "name": "stdout",
     "output_type": "stream",
     "text": [
      "SVMR MAE: 0.1534953807364677\n",
      "SVMR RMSE: 0.2007402277073376\n",
      "SVMR MedAE: 0.1121772649587372\n"
     ]
    }
   ],
   "source": [
    "from sklearn.svm import NuSVR\n",
    "\n",
    "clf = NuSVR(kernel='rbf', nu=0.5).fit(X_train, y_train)\n",
    "y_pred = clf.predict(X_test)\n",
    "print('SVMR MAE:',mean_absolute_error(y_test, y_pred))\n",
    "print('SVMR RMSE:',mean_squared_error(y_test, y_pred, squared = False))\n",
    "print('SVMR MedAE:',median_absolute_error(y_test, y_pred))"
   ]
  },
  {
   "cell_type": "markdown",
   "metadata": {},
   "source": [
    "DS_K45\n",
    "\n",
    "SVMR MAE: 0.1534953807364677\n",
    "SVMR RMSE: 0.2007402277073376\n",
    "SVMR MedAE: 0.1121772649587372\n",
    "\n",
    "LassoCV_k45\n",
    "\n",
    "SVMR MAE: 0.135297025897594\n",
    "SVMR RMSE: 0.18216201253787365\n",
    "SVMR MedAE: 0.09654024731801442\n",
    "\n",
    "PCA_k45\n",
    "\n",
    "SVMR MAE: 0.16507555828034395\n",
    "SVMR RMSE: 0.21274479307583685\n",
    "SVMR MedAE: 0.12479211470915025"
   ]
  },
  {
   "cell_type": "markdown",
   "metadata": {},
   "source": [
    "## DTR"
   ]
  },
  {
   "cell_type": "code",
   "execution_count": 36,
   "metadata": {},
   "outputs": [
    {
     "name": "stdout",
     "output_type": "stream",
     "text": [
      "DTR MAE: 0.15391301020296494\n",
      "DTR RMSE: 0.20677552463999554\n",
      "DTR MedAE: 0.11702952617671414\n"
     ]
    }
   ],
   "source": [
    "regressor = DecisionTreeRegressor(criterion='squared_error', max_depth=8, min_samples_leaf=28).fit(X_train, y_train)\n",
    "y_pred = regressor.predict(X_test)\n",
    "print('DTR MAE:',mean_absolute_error(y_test, y_pred))\n",
    "print('DTR RMSE:',mean_squared_error(y_test, y_pred, squared = False))\n",
    "print('DTR MedAE:',median_absolute_error(y_test, y_pred))"
   ]
  },
  {
   "cell_type": "markdown",
   "metadata": {},
   "source": [
    "DS_K45\n",
    "\n",
    "SVMR MAE: 0.1534953807364677\n",
    "SVMR RMSE: 0.2007402277073376\n",
    "SVMR MedAE: 0.1121772649587372\n",
    "\n",
    "LassoCV_k45\n",
    "\n",
    "DTR MAE: 0.15113857889096238\n",
    "DTR RMSE: 0.20363776643813164\n",
    "DTR MedAE: 0.11185296384592996\n",
    "\n",
    "PCA_k45\n",
    "\n",
    "DTR MAE: 0.15666244433667845\n",
    "DTR RMSE: 0.20628217130147822\n",
    "DTR MedAE: 0.12630915967590484"
   ]
  },
  {
   "cell_type": "markdown",
   "metadata": {},
   "source": [
    "## RFR"
   ]
  },
  {
   "cell_type": "code",
   "execution_count": 37,
   "metadata": {},
   "outputs": [
    {
     "name": "stdout",
     "output_type": "stream",
     "text": [
      "RFR MAE: 0.1358764691078604\n",
      "RFR RMSE: 0.18705466957352396\n",
      "RFR MedAE: 0.09974843616059165\n"
     ]
    }
   ],
   "source": [
    "regressor = RandomForestRegressor(n_estimators=150, max_depth=28, min_samples_leaf=2, criterion='squared_error').fit(X_train, y_train)\n",
    "y_pred = regressor.predict(X_test)\n",
    "print('RFR MAE:',mean_absolute_error(y_test, y_pred))\n",
    "print('RFR RMSE:',mean_squared_error(y_test, y_pred, squared = False))\n",
    "print('RFR MedAE:',median_absolute_error(y_test, y_pred))"
   ]
  },
  {
   "cell_type": "markdown",
   "metadata": {},
   "source": [
    "DS_K45\n",
    "\n",
    "RFR MAE: 0.1358764691078604\n",
    "RFR RMSE: 0.18705466957352396\n",
    "RFR MedAE: 0.09974843616059165\n",
    "\n",
    "LassoCV_k45\n",
    "\n",
    "RFR MAE: 0.12201637670321323\n",
    "RFR RMSE: 0.17099420255830888\n",
    "RFR MedAE: 0.0854117287814817\n",
    "\n",
    "PCA_k45\n",
    "\n",
    "RFR MAE: 0.12930285240898698\n",
    "RFR RMSE: 0.17803374564584556\n",
    "RFR MedAE: 0.0966047256829525"
   ]
  },
  {
   "cell_type": "markdown",
   "metadata": {},
   "source": [
    "## MLP"
   ]
  },
  {
   "cell_type": "code",
   "execution_count": 38,
   "metadata": {},
   "outputs": [
    {
     "name": "stdout",
     "output_type": "stream",
     "text": [
      "MLPR MAE: 0.1508986235877407\n",
      "MLPR RMSE: 0.19778505608523012\n",
      "MLPR MedAE: 0.1176074540863456\n"
     ]
    }
   ],
   "source": [
    "regressor = MLPRegressor(random_state=7, hidden_layer_sizes=(512, 256, 100), activation='tanh', learning_rate='constant').fit(X_train, y_train)\n",
    "y_pred = regressor.predict(X_test)\n",
    "print('MLPR MAE:',mean_absolute_error(y_test, y_pred))\n",
    "print('MLPR RMSE:',mean_squared_error(y_test, y_pred, squared = False))\n",
    "print('MLPR MedAE:',median_absolute_error(y_test, y_pred))"
   ]
  },
  {
   "cell_type": "markdown",
   "metadata": {},
   "source": [
    "DS_K45\n",
    "\n",
    "MLPR MAE: 0.1508986235877407\n",
    "MLPR RMSE: 0.19778505608523012\n",
    "MLPR MedAE: 0.1176074540863456\n",
    "\n",
    "LassoCV_k45\n",
    "\n",
    "MLPR MAE: 0.13285476554404604\n",
    "MLPR RMSE: 0.18032353788086458\n",
    "MLPR MedAE: 0.10116264676686204\n",
    "\n",
    "PCA_k45\n",
    "\n",
    "MLPR MAE: 0.14927644187483038\n",
    "MLPR RMSE: 0.19754082418227376\n",
    "MLPR MedAE: 0.11346236151811148"
   ]
  },
  {
   "cell_type": "markdown",
   "metadata": {},
   "source": [
    "## Votting Regression of RFR, HGBR and MLPR"
   ]
  },
  {
   "cell_type": "code",
   "execution_count": 39,
   "metadata": {},
   "outputs": [
    {
     "name": "stdout",
     "output_type": "stream",
     "text": [
      "Voting MAE: 0.13954868104353518\n",
      "Voting RMSE: 0.1869451935293196\n",
      "Voting MedAE: 0.10501759544540365\n"
     ]
    }
   ],
   "source": [
    "regressor1 = MLPRegressor(random_state=7, hidden_layer_sizes=(512, 256, 100), activation='tanh', learning_rate='constant')\n",
    "regressor2 = RandomForestRegressor(n_estimators=150, max_depth=28, min_samples_leaf=2, criterion='squared_error')\n",
    "regressor3 = HistGradientBoostingRegressor(loss='squared_error', max_depth=18, min_samples_leaf=15, max_iter=500)\n",
    "er = VotingRegressor([('MLP', regressor1), ('RFR', regressor2), ('HGBR', regressor3)])\n",
    "\n",
    "er.fit(X_train, y_train)\n",
    "y_pred = er.predict(X_test)\n",
    "print('Voting MAE:',mean_absolute_error(y_test, y_pred))\n",
    "print('Voting RMSE:',mean_squared_error(y_test, y_pred, squared = False))\n",
    "print('Voting MedAE:',median_absolute_error(y_test, y_pred))"
   ]
  },
  {
   "cell_type": "markdown",
   "metadata": {},
   "source": [
    "DS_K45\n",
    "\n",
    "Voting MAE: 0.13954868104353518\n",
    "Voting RMSE: 0.1869451935293196\n",
    "Voting MedAE: 0.10501759544540365\n",
    "\n",
    "LassoCV_k45\n",
    "\n",
    "Voting MAE: 0.12113508673808417\n",
    "Voting RMSE: 0.16694807733516653\n",
    "Voting MedAE: 0.08789728590847064\n",
    "\n",
    "PCA_k45\n",
    "\n",
    "Voting MAE: 0.12847763977498114\n",
    "Voting RMSE: 0.1740451280608631\n",
    "Voting MedAE: 0.09429364861223682"
   ]
  }
 ],
 "metadata": {
  "kernelspec": {
   "display_name": "base",
   "language": "python",
   "name": "python3"
  },
  "language_info": {
   "codemirror_mode": {
    "name": "ipython",
    "version": 3
   },
   "file_extension": ".py",
   "mimetype": "text/x-python",
   "name": "python",
   "nbconvert_exporter": "python",
   "pygments_lexer": "ipython3",
   "version": "3.10.4"
  },
  "orig_nbformat": 4
 },
 "nbformat": 4,
 "nbformat_minor": 2
}
