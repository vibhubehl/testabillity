{
 "cells": [
  {
   "cell_type": "code",
   "execution_count": null,
   "metadata": {},
   "outputs": [],
   "source": [
    "import pandas as pd\n",
    "import numpy as np\n",
    "\n",
    "from sklearn.preprocessing import QuantileTransformer\n",
    "from sklearn.model_selection import train_test_split\n",
    "from sklearn.metrics import mean_squared_error, mean_absolute_error, median_absolute_error, r2_score\n",
    "from sklearn.model_selection import ShuffleSplit, GridSearchCV\n",
    "\n",
    "from sklearn.tree import DecisionTreeRegressor\n",
    "from sklearn import linear_model\n",
    "from sklearn.neural_network import MLPRegressor\n",
    "from sklearn.ensemble import GradientBoostingRegressor, RandomForestRegressor, HistGradientBoostingRegressor\n",
    "from sklearn.ensemble import VotingRegressor"
   ]
  },
  {
   "cell_type": "code",
   "execution_count": null,
   "metadata": {},
   "outputs": [],
   "source": [
    "class RegressionGridSearch:\n",
    "    def __init__(self, df_path):\n",
    "        # Read input data from given path\n",
    "        df = pd.read_csv(df_path, delimiter=',', index_col=False)\n",
    "\n",
    "        # Split training and testing data 70:30\n",
    "        X_train, X_test, y_train, y_test = train_test_split(\n",
    "            df.iloc[:, 1:-1],\n",
    "            df.iloc[:, -1],\n",
    "            test_size=0.3,\n",
    "            random_state=1,\n",
    "        )\n",
    "\n",
    "        # Scale numerical values with same method as paper being reproduced\n",
    "        scaler = QuantileTransformer(n_quantiles=1000, random_state=1)\n",
    "        scaler.fit(X_train)\n",
    "\n",
    "        # Store X any y values in regression object instance\n",
    "        self.X_train = scaler.transform(X_train)\n",
    "        self.X_test = scaler.transform(X_test)\n",
    "        self.y_train = y_train\n",
    "        self.y_test = y_test\n",
    "\n",
    "    def grid_search(self, regressor, parameters):\n",
    "        # Measures used for each model\n",
    "        scoring = ['neg_root_mean_squared_error', ]\n",
    "\n",
    "        # Cross Validator used for Grid Search\n",
    "        cv = ShuffleSplit(\n",
    "            test_size=0.3, random_state=1\n",
    "        )\n",
    "\n",
    "        # Find the best model using grid-search with above cross-validation\n",
    "        clf = GridSearchCV(\n",
    "            regressor,\n",
    "            param_grid=parameters,\n",
    "            scoring=scoring,\n",
    "            cv=cv,\n",
    "            refit='neg_root_mean_squared_error'\n",
    "        )\n",
    "        clf.fit(X=self.X_train, y=self.y_train)\n",
    "\n",
    "        # Print grid search results\n",
    "        print('Grid Search Results:')\n",
    "        print(' (*) Best parameters set found on development set:', clf.best_params_)\n",
    "        print(' (*) Best classifier score on development set:', clf.best_score_)\n",
    "        print(' (*) Best classifier score on test set:', clf.score(self.X_test, self.y_test))\n",
    "\n",
    "        # Evaluate resulting estimator\n",
    "        self.evaluate_model(clf.best_estimator_)\n",
    "\n",
    "    def evaluate_model(self, model):\n",
    "        # Use given model to predict y values\n",
    "        y_true, y_pred = self.y_test, model.predict(self.X_test)\n",
    "\n",
    "        # Print model metrics\n",
    "        print('Evaluating regressor:')\n",
    "        print(' (*) Regressor minimum prediction:', min(y_pred))\n",
    "        print(' (*) Regressor maximum prediction:', max(y_pred))\n",
    "        print(' (*) R^2 Score Uniform Average:', r2_score(y_true, y_pred, multioutput='uniform_average'))\n",
    "        print(' (*) R^2 Score Variance Weighted:', r2_score(y_true, y_pred, multioutput='variance_weighted'))\n",
    "        print(' (*) Mean Absolute Error:', mean_absolute_error(y_true, y_pred))\n",
    "        print(' (*) Mean Squared Error:', mean_squared_error(y_true, y_pred))\n",
    "        print(' (*) Root Mean Squared Error:', mean_squared_error(y_true, y_pred, squared=False))\n",
    "        print(' (*) Median Absolute Error:', median_absolute_error(y_true, y_pred))"
   ]
  },
  {
   "cell_type": "code",
   "execution_count": null,
   "metadata": {},
   "outputs": [],
   "source": [
    "def init_regression_df(ds_number=6):\n",
    "    if ds_number == 1:\n",
    "        reg_gs = RegressionGridSearch(df_path=r'./dataset/researchDataset/DS07012.csv')  # DS1\n",
    "    elif ds_number == 2:\n",
    "        reg_gs = RegressionGridSearch(df_path=r'./dataset/researchDataset/DS07012.csv')  # DS2\n",
    "    elif ds_number == 3:\n",
    "        reg_gs = RegressionGridSearch(df_path=r'./dataset/researchDataset/DS07310.csv')  # DS3\n",
    "    elif ds_number == 4:\n",
    "        reg_gs = RegressionGridSearch(df_path=r'./dataset/researchDataset/DS07410.csv')  # DS4\n",
    "    elif ds_number == 5:\n",
    "        reg_gs = RegressionGridSearch(df_path=r'./dataset/researchDataset/DS07510.csv')  # DS5\n",
    "    elif ds_number == 6:\n",
    "        reg_gs = RegressionGridSearch(df_path=r'./dataset/researchDataset/DS07610.csv')  # DS6\n",
    "    return(reg_gs)"
   ]
  },
  {
   "cell_type": "code",
   "execution_count": null,
   "metadata": {},
   "outputs": [],
   "source": [
    "def run_grid_search(regressor, parameters):\n",
    "    # Input ds_number 1 through 6 to choose one of the 6 datasets available\n",
    "    reg_gs = init_regression_df()\n",
    "    reg_gs.grid_search(regressor, parameters)"
   ]
  },
  {
   "cell_type": "code",
   "execution_count": null,
   "metadata": {},
   "outputs": [],
   "source": [
    "regressor = DecisionTreeRegressor(random_state=1)\n",
    "parameters = {\n",
    "    'max_depth': range(3, 50, 5),\n",
    "    'min_samples_split': range(2, 30, 2)\n",
    "}\n",
    "run_grid_search(regressor, parameters)"
   ]
  },
  {
   "cell_type": "code",
   "execution_count": null,
   "metadata": {},
   "outputs": [],
   "source": [
    "regressor = RandomForestRegressor(random_state=19, )\n",
    "parameters = {\n",
    "    'n_estimators': range(100, 200, 100),\n",
    "    'max_depth': range(10, 50, 10)\n",
    "}\n",
    "run_grid_search(regressor, parameters)"
   ]
  },
  {
   "cell_type": "code",
   "execution_count": null,
   "metadata": {},
   "outputs": [],
   "source": [
    "regressor = GradientBoostingRegressor(n_estimators=400, learning_rate=0.05, random_state=17, )\n",
    "parameters = {\n",
    "    'max_depth': range(10, 50, 10),\n",
    "    'min_samples_split': range(2, 30, 3)\n",
    "}\n",
    "run_grid_search(regressor, parameters)"
   ]
  },
  {
   "cell_type": "code",
   "execution_count": null,
   "metadata": {},
   "outputs": [],
   "source": [
    "regressor = HistGradientBoostingRegressor(max_iter=400, learning_rate=0.05, random_state=13, )\n",
    "parameters = {\n",
    "    'max_depth': range(10, 50, 10),\n",
    "    'min_samples_leaf': range(5, 50, 10)\n",
    "}\n",
    "run_grid_search(regressor, parameters)"
   ]
  },
  {
   "cell_type": "code",
   "execution_count": null,
   "metadata": {},
   "outputs": [],
   "source": [
    "regressor = linear_model.SGDRegressor(early_stopping=True, n_iter_no_change=5, random_state=11, )\n",
    "parameters = {\n",
    "    'loss': ['squared_loss', 'huber', 'epsilon_insensitive'],\n",
    "    'penalty': ['l2', 'l1', 'elasticnet'],\n",
    "    'max_iter': range(50, 1000, 50),\n",
    "    'learning_rate': ['invscaling', 'optimal', 'constant', 'adaptive'],\n",
    "    'eta0': [0.1, 0.01],\n",
    "    'average': [32, ]\n",
    "}\n",
    "run_grid_search(regressor, parameters)"
   ]
  },
  {
   "cell_type": "code",
   "execution_count": null,
   "metadata": {},
   "outputs": [],
   "source": [
    "regressor = MLPRegressor(random_state=7, )\n",
    "parameters = {\n",
    "    'hidden_layer_sizes': [(256, 100), (512, 256, 100), ],\n",
    "    'activation': ['tanh', ],\n",
    "    'solver': ['adam', ],\n",
    "    'max_iter': range(50, 200, 50)\n",
    "}\n",
    "run_grid_search(regressor, parameters)"
   ]
  }
 ],
 "metadata": {
  "kernelspec": {
   "display_name": "base",
   "language": "python",
   "name": "python3"
  },
  "language_info": {
   "codemirror_mode": {
    "name": "ipython",
    "version": 3
   },
   "file_extension": ".py",
   "mimetype": "text/x-python",
   "name": "python",
   "nbconvert_exporter": "python",
   "pygments_lexer": "ipython3",
   "version": "3.10.9"
  },
  "orig_nbformat": 4
 },
 "nbformat": 4,
 "nbformat_minor": 2
}
