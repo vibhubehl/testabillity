{
 "cells": [
  {
   "cell_type": "code",
   "execution_count": null,
   "metadata": {},
   "outputs": [],
   "source": [
    "import pandas as pd\n",
    "import numpy as np"
   ]
  },
  {
   "cell_type": "code",
   "execution_count": null,
   "metadata": {},
   "outputs": [],
   "source": [
    "data_path=r'./dataset/researchDataset/DS07012.csv'\n",
    "data = pd.read_csv(data_path, delimiter=',', index_col=False)\n",
    "df = data.drop('Class', axis=1)\n",
    "df.head()"
   ]
  },
  {
   "cell_type": "code",
   "execution_count": null,
   "metadata": {},
   "outputs": [],
   "source": [
    "X = df.iloc[:, 0:-1]\n",
    "y = df.iloc[:, -1]\n",
    "X.shape"
   ]
  },
  {
   "cell_type": "code",
   "execution_count": null,
   "metadata": {},
   "outputs": [],
   "source": [
    "from sklearn.model_selection import train_test_split\n",
    "\n",
    "X_train, X_test, y_train, y_test = train_test_split(X, y, test_size=0.2, random_state=1)"
   ]
  },
  {
   "cell_type": "code",
   "execution_count": null,
   "metadata": {},
   "outputs": [],
   "source": [
    "from sklearn.preprocessing import StandardScaler\n",
    "\n",
    "scaler = StandardScaler()\n",
    "X_train_scaled = scaler.fit_transform(X_train)\n",
    "X_test_scaled = scaler.transform(X_test)"
   ]
  },
  {
   "cell_type": "code",
   "execution_count": null,
   "metadata": {},
   "outputs": [],
   "source": [
    "from sklearn.linear_model import LassoCV\n",
    "from sklearn.model_selection import KFold\n",
    "\n",
    "# Define the range of alpha values to explore (e.g., from 0.01 to 100)\n",
    "alpha_values = np.logspace(-2.5, 2, num=30)\n",
    "# Create a k-fold cross-validation object (k=5 for example)\n",
    "kf = KFold(n_splits=5, shuffle=True, random_state=42)\n",
    "# Initialize LassoCV with the range of alpha values and use k-fold cross-validation\n",
    "lasso_cv = LassoCV(alphas=alpha_values, cv=kf)\n",
    "# Fit LassoCV to the data\n",
    "lasso_cv.fit(X_train_scaled, y_train)\n",
    "\n",
    "# Get the optimal alpha value that yielded the best performance during cross-validation\n",
    "optimal_alpha = lasso_cv.alpha_\n",
    "print(\"Optimal alpha:\", optimal_alpha)\n",
    "\n",
    "# Get the selected feature indices based on the optimal alpha\n",
    "selected_feature_indices = np.where(lasso_cv.coef_ != 0)[0]\n",
    "# Get the selected feature names\n",
    "selected_feature_names = X.columns[selected_feature_indices]"
   ]
  },
  {
   "cell_type": "code",
   "execution_count": null,
   "metadata": {},
   "outputs": [],
   "source": [
    "from sklearn.linear_model import Lasso\n",
    "\n",
    "lasso = Lasso(alpha=0.0031622776601683794)  # used optimal choice from LassoCV\n",
    "lasso.fit(X_train_scaled, y_train)\n",
    "selected_feature_indices = np.where(lasso.coef_ != 0)[0]\n",
    "selected_feature_names = X.columns[selected_feature_indices]\n",
    "len(selected_feature_names)"
   ]
  },
  {
   "cell_type": "code",
   "execution_count": null,
   "metadata": {},
   "outputs": [],
   "source": [
    "selected_lasso_cv = list(selected_feature_names)\n",
    "features_kept = ['Class'] + selected_lasso_cv + ['Testability']\n",
    "feature_selected_data = data.filter(features_kept)\n",
    "\n",
    "new_data_path=r'./dataset/newDataset/DS_LassoCV_k45.csv'\n",
    "feature_selected_data.to_csv(new_data_path, index=False)"
   ]
  },
  {
   "cell_type": "markdown",
   "metadata": {},
   "source": [
    "L1-based feature selection with Lasso and Cross-Validation.\n",
    "LassoCV runs Lasso/L1 regularization, a univariate selection method, with cross-validation to select the most important features, tuning the regularization strength alpha.\n",
    "\n",
    "LassoCV is useful when you have many features and suspect that many of them are irrelevant or redundant. Automatically selects a subset of the most relevant features by setting the coefficients of less important features to zero."
   ]
  },
  {
   "cell_type": "code",
   "execution_count": null,
   "metadata": {},
   "outputs": [],
   "source": [
    "scaler = StandardScaler()\n",
    "X_scaled = scaler.fit_transform(X)"
   ]
  },
  {
   "cell_type": "code",
   "execution_count": null,
   "metadata": {},
   "outputs": [],
   "source": [
    "from sklearn.decomposition import PCA\n",
    "\n",
    "# Save the column names for later use\n",
    "column_names = X.columns\n",
    "\n",
    "# Create a PCA object\n",
    "n_components = 45  # Specify the number of top components to retain\n",
    "pca = PCA(n_components=n_components)\n",
    "\n",
    "# Fit and transform the data using PCA\n",
    "X_pca = pca.fit_transform(X_scaled)\n",
    "\n",
    "# Get the indices of the features with the highest loadings in each component\n",
    "top_feature_indices = np.abs(pca.components_).argmax(axis=1)\n",
    "\n",
    "# Get the names of the selected features\n",
    "selected_feature_names = column_names[top_feature_indices]\n",
    "\n",
    "print(selected_feature_names)"
   ]
  },
  {
   "cell_type": "code",
   "execution_count": null,
   "metadata": {},
   "outputs": [],
   "source": [
    "selected_pca = list(selected_feature_names)\n",
    "features_kept = ['Class'] + selected_pca + ['Testability']\n",
    "feature_selected_data = data.filter(features_kept)\n",
    "\n",
    "new_data_path=r'./dataset/newDataset/DS_PCA_k45.csv'\n",
    "feature_selected_data.to_csv(new_data_path, index=False)"
   ]
  },
  {
   "cell_type": "code",
   "execution_count": null,
   "metadata": {},
   "outputs": [],
   "source": [
    "from sklearn.feature_selection import VarianceThreshold\n",
    "\n",
    "var_threshold = VarianceThreshold(threshold=0.1)\n",
    "\n",
    "X_new = var_threshold.fit_transform(X)\n",
    "feature_names = var_threshold.get_feature_names_out()\n",
    "feature_names.shape"
   ]
  },
  {
   "cell_type": "markdown",
   "metadata": {},
   "source": [
    "Features all have significant variance, a threshold of 0.2 only eliminated 5 features, 0.1 variance eliminated 3 features."
   ]
  },
  {
   "cell_type": "code",
   "execution_count": null,
   "metadata": {},
   "outputs": [],
   "source": [
    "from sklearn.feature_selection import SelectKBest\n",
    "from sklearn.feature_selection import f_regression\n",
    "\n",
    "k_best = SelectKBest(f_regression, k=45)\n",
    "\n",
    "X_new = k_best.fit_transform(X, y)\n",
    "feature_names = k_best.get_feature_names_out()\n",
    "feature_names"
   ]
  },
  {
   "cell_type": "markdown",
   "metadata": {},
   "source": [
    "SelectKBest is a univariate feature selection method, evaluates each feature independently without considering the relationship between features.\n",
    "Used f_regression to rank the features, it then selects the top K features with the highest scores"
   ]
  },
  {
   "cell_type": "code",
   "execution_count": null,
   "metadata": {},
   "outputs": [],
   "source": [
    "selected_k_best = list(feature_names)\n",
    "features_kept = ['Class'] + selected_k_best + ['Testability']\n",
    "feature_selected_data = data.filter(features_kept)\n",
    "\n",
    "new_data_path=r'./dataset/newDataset/DS_K45.csv'\n",
    "feature_selected_data.to_csv(new_data_path, index=False)"
   ]
  },
  {
   "cell_type": "code",
   "execution_count": null,
   "metadata": {},
   "outputs": [],
   "source": [
    "from sklearn.feature_selection import RFECV\n",
    "from sklearn.svm import SVR\n",
    "\n",
    "estimator = SVR(kernel=\"linear\")\n",
    "\n",
    "rfecv = RFECV(\n",
    "    estimator=estimator,\n",
    "    step=5,\n",
    "    min_features_to_select=15,\n",
    "    cv=3\n",
    ")\n",
    "rfecv.fit(X_new, y)\n",
    "\n",
    "print(f\"Optimal number of features: {rfecv.n_features_}\")"
   ]
  },
  {
   "cell_type": "markdown",
   "metadata": {},
   "source": [
    "RFECV Takes extremely long to run even with smaller dataset with 40 features."
   ]
  }
 ],
 "metadata": {
  "kernelspec": {
   "display_name": "Python 3",
   "language": "python",
   "name": "python3"
  },
  "language_info": {
   "codemirror_mode": {
    "name": "ipython",
    "version": 3
   },
   "file_extension": ".py",
   "mimetype": "text/x-python",
   "name": "python",
   "nbconvert_exporter": "python",
   "pygments_lexer": "ipython3",
   "version": "3.10.4"
  },
  "orig_nbformat": 4
 },
 "nbformat": 4,
 "nbformat_minor": 2
}
